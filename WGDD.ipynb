{
  "nbformat": 4,
  "nbformat_minor": 0,
  "metadata": {
    "colab": {
      "name": "WGDD.ipynb",
      "provenance": [],
      "authorship_tag": "ABX9TyOUIoY3voct3vzmVYKyEuZP",
      "include_colab_link": true
    },
    "kernelspec": {
      "name": "python3",
      "display_name": "Python 3"
    }
  },
  "cells": [
    {
      "cell_type": "markdown",
      "metadata": {
        "id": "view-in-github",
        "colab_type": "text"
      },
      "source": [
        "<a href=\"https://colab.research.google.com/github/limontec/WhatsApp-GDrive-Downloader/blob/master/WGDD.ipynb\" target=\"_parent\"><img src=\"https://colab.research.google.com/assets/colab-badge.svg\" alt=\"Open In Colab\"/></a>"
      ]
    },
    {
      "cell_type": "markdown",
      "metadata": {
        "id": "hVKrdyYCN1BD"
      },
      "source": [
        "#**WhatsApp GDrive Downloader**\n",
        "\n",
        "Inspiration: https://github.com/B16f00t/whapa\n",
        "\n",
        "Adaptation by https://t.me/limontec\n",
        "\n",
        "DISCLAIMER: TO BE USED FOR EDUCATIONAL PURPOSES ONLY.\n",
        "\n",
        "Don't type your password... go to the URL: https://myaccount.google.com/apppasswords\n",
        "\n",
        "Then select Application: Other.\n",
        "\n",
        "Write down: Whapa\n",
        "\n",
        "A password will be display.\n",
        "\n",
        "Then you must write the password bellow.\n",
        "\n",
        "v0.0.5"
      ]
    },
    {
      "cell_type": "code",
      "metadata": {
        "id": "qPKVUTktNk3p"
      },
      "source": [
        "import os\n",
        "from google.colab import files\n",
        "from IPython.display import clear_output\n",
        "\n",
        "#@markdown <center><h2>Download your WhatsApp data from Google Drive</h2></center><br>\n",
        "\n",
        "if not os.path.exists(f'whapa/whagodri.py'):\n",
        "  !git clone https://github.com/B16f00t/whapa\n",
        "  !pip3 install gpsoauth\n",
        "  !cd whapa && pip3 install -r ./doc/requirements.txt\n",
        "  !cp -R whapa/libs/whagodri.py whapa/\n",
        "\n",
        "#@markdown ####Type your info:\n",
        "email = \"your_email@gmail.com\"  # @param {type:\"string\"}\n",
        "password = \"your_password\"  # @param {type:\"string\"}\n",
        "phone = \"your_phone_number_with_country_code\"  # @param {type:\"string\"}\n",
        "\n",
        "with open('whapa/cfg/settings.cfg', 'w') as cfg:\n",
        "            cfg.write('[report]\\ncompany =\\nrecord =\\nunit =\\nexaminer =\\nnotes =\\n\\n[google-auth]\\ngmail = '+email+'\\npassw = '+password+'\\ncelnumbr = '+phone+'\\n\\n[icloud-auth]\\nicloud  = alias@icloud.com\\npassw = yourpassword')\n",
        "\n",
        "#@markdown Please, try run the script...\n",
        "\n",
        "#@markdown <br/>If shows info about your WhatsApp backup...\n",
        "#@markdown <br/>check the box below to download all content and run again!\n",
        "download_all = False #@param {type:\"boolean\"}\n",
        "\n",
        "if not (download_all):\n",
        "  clear_output()\n",
        "  !cd whapa && python3 whagodri.py -i\n",
        "\n",
        "wppbk = 'whatsapp_backup_'+phone\n",
        "\n",
        "def downloadFile():\n",
        "  try:\n",
        "    !cd whapa && zip -9 -r {wppbk}.zip Backups Databases Media _INTERNAL_FILES_\n",
        "    clear_output()\n",
        "    files.download('whapa/'+wppbk+'.zip')\n",
        "  except FileNotFoundError:\n",
        "    print(\"File not found!\")\n",
        "  except:\n",
        "    print(\"Something else went wrong, try download manually\")\n",
        "\n",
        "if (download_all):\n",
        "  !cd whapa && python3 whagodri.py -s\n",
        "  downloadFile()"
      ],
      "execution_count": null,
      "outputs": []
    }
  ]
}