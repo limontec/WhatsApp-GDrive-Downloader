{
  "nbformat": 4,
  "nbformat_minor": 0,
  "metadata": {
    "colab": {
      "name": "WGDD.ipynb",
      "provenance": [],
      "authorship_tag": "ABX9TyNfU5dlrqVH8XOadZvupK8I",
      "include_colab_link": true
    },
    "kernelspec": {
      "name": "python3",
      "display_name": "Python 3"
    }
  },
  "cells": [
    {
      "cell_type": "markdown",
      "metadata": {
        "id": "view-in-github",
        "colab_type": "text"
      },
      "source": [
        "<a href=\"https://colab.research.google.com/github/limontec/WhatsApp-GDrive-Downloader/blob/master/WGDD.ipynb\" target=\"_parent\"><img src=\"https://colab.research.google.com/assets/colab-badge.svg\" alt=\"Open In Colab\"/></a>"
      ]
    },
    {
      "cell_type": "markdown",
      "metadata": {
        "id": "hVKrdyYCN1BD"
      },
      "source": [
        "#**WhatsApp GDrive Downloader**\n",
        "\n",
        "Inspiration: https://github.com/B16f00t/whapa\n",
        "\n",
        "Adaptation by https://t.me/limontec\n",
        "\n",
        "DISCLAIMER: TO BE USED FOR EDUCATIONAL PURPOSES ONLY.\n",
        "\n",
        "Don't type your password... go to the URL: https://myaccount.google.com/apppasswords\n",
        "\n",
        "Then select Application: Other.\n",
        "\n",
        "Write down: Whapa\n",
        "\n",
        "A password will be display.\n",
        "\n",
        "Then you must write the password bellow.\n",
        "\n",
        "v0.1.0"
      ]
    },
    {
      "cell_type": "code",
      "source": [
        "#@markdown <center><h2>Add support Python 3.8 Google Colab</h2></center><br>\n",
        "!wget -O mini.sh https://repo.anaconda.com/miniconda/Miniconda3-py38_4.8.2-Linux-x86_64.sh\n",
        "!chmod +x mini.sh\n",
        "!bash ./mini.sh -b -f -p /usr/local\n",
        "!conda install -q -y jupyter\n",
        "!conda install -q -y google-colab -c conda-forge\n",
        "!python -m ipykernel install --name \"py38\" --user\n",
        "!python3 -m pip install --upgrade pip\n",
        "!python3 --version\n",
        "!pip --version"
      ],
      "metadata": {
        "id": "uOkjTopn5r1Y"
      },
      "execution_count": null,
      "outputs": []
    },
    {
      "cell_type": "code",
      "metadata": {
        "id": "qPKVUTktNk3p"
      },
      "source": [
        "import os\n",
        "from google.colab import files\n",
        "from IPython.display import clear_output\n",
        "#@markdown <center><h2>Download your WhatsApp data from Google Drive</h2></center><br>\n",
        "if not os.path.exists(f'whapa/libs/whagodri.py'):\n",
        "  !git clone https://github.com/limontec/whapa\n",
        "  !cd whapa && pip3 install --upgrade -r ./doc/requirements.txt\n",
        "  #!pip3 install --upgrade gpsoauth==0.4.2\n",
        "\n",
        "#@markdown ####Type your info:\n",
        "email = \"\"  # @param {type:\"string\"}\n",
        "password = \"\"  # @param {type:\"string\"}\n",
        "phone = \"\"  # @param {type:\"string\"}\n",
        "oauth = \"\\\"\\\"\"\n",
        "\n",
        "with open('whapa/cfg/settings.cfg', 'w') as cfg:\n",
        "            cfg.write('[report]\\ncompany =\\nrecord =\\nunit =\\nexaminer =\\nnotes =\\n\\n[google-auth]\\ngmail = '+email+'\\n# Optional. The account password or app password when using 2FA.\\npassword = '+password+'\\n# Optional. Login using the oauth cookie.\\noauth = '+oauth+'\\n# Optional. The result of \"adb shell settings get secure android_id\".\\nandroid_id = 0000000000000000\\n# Optional. Enter the backup country code + phonenumber be synchronized, otherwise it synchronizes all backups.\\n# You can specify a list of celnumbr = BackupNumber1, BackupNumber2, ...\\ncelnumbr = '+phone+'\\n\\n[icloud-auth]\\nicloud  = alias@icloud.com\\npassw = yourpassword')\n",
        "\n",
        "#@markdown Please, try run the script...\n",
        "\n",
        "#@markdown <br/>If shows info about your WhatsApp backup...\n",
        "#@markdown <br/>check the box below to download all content and run again!\n",
        "download_all = False #@param {type:\"boolean\"}\n",
        "\n",
        "if not (download_all):\n",
        "  clear_output()\n",
        "  !python whapa/libs/whagodri.py -i\n",
        "\n",
        "wppbk = 'whatsapp_backup_'+phone\n",
        "\n",
        "def downloadFile():\n",
        "  try:\n",
        "    !cd /content{phone}/files/ && zip -9 -r {wppbk}.zip Backups Databases Media _INTERNAL_FILES_\n",
        "    clear_output()\n",
        "    !mv /content{phone}/files/{wppbk}.zip /content/\n",
        "    files.download(wppbk+'.zip')\n",
        "    !echo \"If download does not start, download the file manually from the directory in the left corner. /content/whatsapp_backup_{phone}.zip\"\n",
        "    \n",
        "  except FileNotFoundError:\n",
        "    print(\"File not found!\")\n",
        "  except:\n",
        "    print(\"Something else went wrong, try download manually\")\n",
        "\n",
        "if (download_all):\n",
        "  !python3 whapa/libs/whagodri.py -s\n",
        "  downloadFile()"
      ],
      "execution_count": null,
      "outputs": []
    }
  ]
}